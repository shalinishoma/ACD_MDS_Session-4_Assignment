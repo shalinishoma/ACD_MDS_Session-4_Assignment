{
 "cells": [
  {
   "cell_type": "markdown",
   "metadata": {},
   "source": [
    "## Assignment 4"
   ]
  },
  {
   "cell_type": "markdown",
   "metadata": {},
   "source": [
    "### Task 1"
   ]
  },
  {
   "cell_type": "markdown",
   "metadata": {},
   "source": [
    "#### 1. Given a sequence of n values x1, x2, ..., xn and a window size k>0, the k-th moving average of the given sequence is defined as follows:"
   ]
  },
  {
   "cell_type": "markdown",
   "metadata": {},
   "source": [
    "#### The moving average sequence has n-k+1 elements as shown below."
   ]
  },
  {
   "cell_type": "markdown",
   "metadata": {},
   "source": [
    "#### The moving averages with k=4 of a ten-value sequence (n=10) is shown below"
   ]
  },
  {
   "cell_type": "markdown",
   "metadata": {},
   "source": [
    "####       i      1   2   3   4    5   6   7   8   9  10\n",
    "#### ===== == == == == == == == == == =="
   ]
  },
  {
   "cell_type": "markdown",
   "metadata": {},
   "source": [
    "#### Input 10 20 30 40 50 60 70 80 90 100\n",
    "#### y1 25 = (10+20+30+40)/4\n",
    "#### y2 35 = (20+30+40+50)/4\n",
    "#### y3 45 = (30+40+50+60)/4\n",
    "#### y4 55 = (40+50+60+70)/4\n",
    "#### y5 65 = (50+60+70+80)/4\n",
    "#### y6 75 = (60+70+80+90)/4\n",
    "#### y7 85 = (70+80+90+100)/4"
   ]
  },
  {
   "cell_type": "markdown",
   "metadata": {},
   "source": [
    "#### Thus, the moving average sequence has n-k+1=10-4+1=7 values."
   ]
  },
  {
   "cell_type": "markdown",
   "metadata": {},
   "source": [
    "#### Write a function to find moving average in an array over a window:\n",
    "#### Test it over [3, 5, 7, 2, 8, 10, 11, 65, 72, 81, 99, 100, 150] and window of 3."
   ]
  },
  {
   "cell_type": "code",
   "execution_count": 2,
   "metadata": {},
   "outputs": [
    {
     "name": "stdout",
     "output_type": "stream",
     "text": [
      "y1 5.0 = (3+5+7+)/3\n",
      "y2  4.666666666666667 = (5+7+2+)/3\n",
      "y3   5.666666666666667 = (7+2+8+)/3\n",
      "y4    6.666666666666667 = (2+8+10+)/3\n",
      "y5     9.666666666666666 = (8+10+11+)/3\n",
      "y6      28.666666666666668 = (10+11+65+)/3\n",
      "y7       49.333333333333336 = (11+65+72+)/3\n",
      "y8        72.66666666666667 = (65+72+81+)/3\n",
      "y9         84.0 = (72+81+99+)/3\n",
      "y10          93.33333333333333 = (81+99+100+)/3\n",
      "y11           116.33333333333333 = (99+100+150+)/3\n"
     ]
    }
   ],
   "source": [
    "# import numpy\n",
    "import numpy as np\n",
    "\n",
    "# define input list\n",
    "list1 = [3, 5, 7, 2, 8, 10, 11, 65, 72, 81, 99, 100, 150]\n",
    "\n",
    "# define window size\n",
    "k = 3\n",
    "\n",
    "# define the number of values in the moving average sequence\n",
    "mov_avg_len = len(list1) - k + 1\n",
    "\n",
    "# Calculate the moving average and print the result\n",
    "for i in range(mov_avg_len):\n",
    "    val = (list1[i] + list1[i+1] + list1[i+2])/k\n",
    "    print('y'+ str(i+1) + (' '*(i+1))+str(val)+' = '+'('+str(list1[i])+'+'+str(list1[i+1])+'+'+str(list1[i+2])+'+' + ')/'+str(k))"
   ]
  },
  {
   "cell_type": "markdown",
   "metadata": {},
   "source": [
    "### Task 2"
   ]
  },
  {
   "cell_type": "markdown",
   "metadata": {},
   "source": [
    "#### 1. How-to-count-distance-to-the-previous-zero"
   ]
  },
  {
   "cell_type": "markdown",
   "metadata": {},
   "source": [
    "#### For each value, count the difference back to the previous zero (or the start of the Series, whichever is closer)"
   ]
  },
  {
   "cell_type": "markdown",
   "metadata": {},
   "source": [
    "#### create a new column 'Y'"
   ]
  },
  {
   "cell_type": "markdown",
   "metadata": {},
   "source": [
    "#### Consider a DataFrame df where there is an integer column 'X'"
   ]
  },
  {
   "cell_type": "markdown",
   "metadata": {},
   "source": [
    "#### import pandas as pd"
   ]
  },
  {
   "cell_type": "markdown",
   "metadata": {},
   "source": [
    "#### df = pd.DataFrame({'X': [7, 2, 0, 3, 4, 2, 5, 0, 3, 4]})"
   ]
  },
  {
   "cell_type": "code",
   "execution_count": 3,
   "metadata": {},
   "outputs": [
    {
     "name": "stdout",
     "output_type": "stream",
     "text": [
      "   X  Y\n",
      "0  7  0\n",
      "1  2  1\n",
      "2  0  0\n",
      "3  3  1\n",
      "4  4  2\n",
      "5  2  3\n",
      "6  5  4\n",
      "7  0  0\n",
      "8  3  1\n",
      "9  4  2\n"
     ]
    }
   ],
   "source": [
    "import pandas as pd\n",
    "import numpy as np\n",
    "\n",
    "# define dataframe\n",
    "df = pd.DataFrame({'X': [7, 2, 0, 3, 4, 2, 5, 0, 3, 4]})\n",
    "\n",
    "df_series = df['X']\n",
    "list_final = list()\n",
    "prev_i = 0\n",
    "\n",
    "# calculate the previous zero value\n",
    "for i in df_series.index:\n",
    "    if df_series[i] == 0:\n",
    "        list_final.append(0)\n",
    "        prev_i = i\n",
    "    else:\n",
    "        j = i - prev_i\n",
    "        list_final.append(j)\n",
    "        \n",
    "#Add new column and assign valve        \n",
    "df['Y'] = list_final\n",
    "\n",
    "#print dataframe\n",
    "print(df)"
   ]
  },
  {
   "cell_type": "markdown",
   "metadata": {},
   "source": [
    "#### 2. Create a DatetimeIndex that contains each business day of 2015 and use it to index a Series of random numbers."
   ]
  },
  {
   "cell_type": "code",
   "execution_count": 4,
   "metadata": {},
   "outputs": [
    {
     "data": {
      "text/plain": [
       "2015-01-01    0.696113\n",
       "2015-01-02    0.337040\n",
       "2015-01-05    0.172392\n",
       "2015-01-06    0.848399\n",
       "2015-01-07    0.796393\n",
       "2015-01-08    0.519602\n",
       "2015-01-09    0.439635\n",
       "2015-01-12    0.169959\n",
       "2015-01-13    0.274828\n",
       "2015-01-14    0.300126\n",
       "2015-01-15    0.957322\n",
       "2015-01-16    0.025417\n",
       "2015-01-19    0.708434\n",
       "2015-01-20    0.967327\n",
       "2015-01-21    0.044995\n",
       "2015-01-22    0.650490\n",
       "2015-01-23    0.429242\n",
       "2015-01-26    0.352596\n",
       "2015-01-27    0.395456\n",
       "2015-01-28    0.876380\n",
       "2015-01-29    0.367828\n",
       "2015-01-30    0.805561\n",
       "2015-02-02    0.156211\n",
       "2015-02-03    0.859735\n",
       "2015-02-04    0.183559\n",
       "2015-02-05    0.368924\n",
       "2015-02-06    0.179435\n",
       "2015-02-09    0.329842\n",
       "2015-02-10    0.166607\n",
       "2015-02-11    0.271106\n",
       "                ...   \n",
       "2015-11-20    0.656288\n",
       "2015-11-23    0.515144\n",
       "2015-11-24    0.971249\n",
       "2015-11-25    0.533053\n",
       "2015-11-26    0.544172\n",
       "2015-11-27    0.562066\n",
       "2015-11-30    0.245141\n",
       "2015-12-01    0.204472\n",
       "2015-12-02    0.552714\n",
       "2015-12-03    0.741374\n",
       "2015-12-04    0.604513\n",
       "2015-12-07    0.588191\n",
       "2015-12-08    0.857510\n",
       "2015-12-09    0.992365\n",
       "2015-12-10    0.757239\n",
       "2015-12-11    0.813348\n",
       "2015-12-14    0.425404\n",
       "2015-12-15    0.181678\n",
       "2015-12-16    0.078387\n",
       "2015-12-17    0.498253\n",
       "2015-12-18    0.899760\n",
       "2015-12-21    0.729910\n",
       "2015-12-22    0.825096\n",
       "2015-12-23    0.134814\n",
       "2015-12-24    0.013539\n",
       "2015-12-25    0.238843\n",
       "2015-12-28    0.906692\n",
       "2015-12-29    0.698853\n",
       "2015-12-30    0.741048\n",
       "2015-12-31    0.318077\n",
       "Freq: B, Name: VALUE, Length: 261, dtype: float64"
      ]
     },
     "execution_count": 4,
     "metadata": {},
     "output_type": "execute_result"
    }
   ],
   "source": [
    "import random\n",
    "\n",
    "# define date time index\n",
    "dateTime_i = pd.DatetimeIndex(freq='B',start='2015',end='2016',closed='left')\n",
    "\n",
    "# define random numbers\n",
    "rand_num = np.random.rand(dateTime_i.size)\n",
    "\n",
    "# create series\n",
    "final_dateTime = pd.Series(rand_num,index=dateTime_i,name='VALUE')\n",
    "\n",
    "final_dateTime"
   ]
  },
  {
   "cell_type": "markdown",
   "metadata": {},
   "source": [
    "#### 3. Find the sum of the values in s for every Wednesday"
   ]
  },
  {
   "cell_type": "code",
   "execution_count": 5,
   "metadata": {},
   "outputs": [
    {
     "name": "stdout",
     "output_type": "stream",
     "text": [
      "Sum of values in s for every Wednesday is 24.33626323669828\n"
     ]
    }
   ],
   "source": [
    "# import datetime library\n",
    "import datetime as dt\n",
    "\n",
    "s = 0\n",
    "\n",
    "# calculate the sum by converting date into weekday \n",
    "# and comparing it with 2 i.e. Wednesday\n",
    "for i in final_dateTime.index:\n",
    "    if dt.datetime(i.year,i.month,i.day).weekday() == 2:\n",
    "        s = s + final_dateTime[i]\n",
    "        \n",
    "# print the sum        \n",
    "print(\"Sum of values in s for every Wednesday is {}\".format(s))  "
   ]
  },
  {
   "cell_type": "markdown",
   "metadata": {},
   "source": [
    "#### 4. Average For each calendar month"
   ]
  },
  {
   "cell_type": "code",
   "execution_count": 6,
   "metadata": {},
   "outputs": [
    {
     "name": "stdout",
     "output_type": "stream",
     "text": [
      "Average for January is : 0.23919000711851598\n",
      "Average for February is : 0.11122076594593971\n",
      "Average for March is : 0.6020895567637108\n",
      "Average for April is : 0.5651820428526182\n",
      "Average for May is : 0.35198865277791486\n",
      "Average for June is : 0.3119990464067348\n",
      "Average for July is : 0.12609880494237163\n",
      "Average for August is : 0.1861740344411236\n",
      "Average for September is : 0.21299248740700047\n",
      "Average for October is : 0.6793896503373896\n",
      "Average for November is : 0.017217745405152193\n",
      "Average for December is : 0.525612614804269\n"
     ]
    }
   ],
   "source": [
    "# import calander\n",
    "import calendar as c\n",
    "\n",
    "# loop through to find sum\n",
    "for i in range(1,13):\n",
    "    s = 0.0\n",
    "    for j in final_dateTime.index:\n",
    "        if j.month == i:\n",
    "            s = s + final_dateTime[i]\n",
    "    no_days = c.monthrange(j.year,j.month)[1]\n",
    "    \n",
    "# calculate average\n",
    "    avg = s / no_days\n",
    "    \n",
    "# print result\n",
    "    print(\"Average for {} is : {}\".format(c.month_name[i],avg))"
   ]
  },
  {
   "cell_type": "markdown",
   "metadata": {},
   "source": [
    "#### 5. For each group of four consecutive calendar months in s, find the date on which the highest value occurred."
   ]
  },
  {
   "cell_type": "code",
   "execution_count": 7,
   "metadata": {},
   "outputs": [
    {
     "name": "stdout",
     "output_type": "stream",
     "text": [
      "Date on which highest value occured is : 2015-01-20 00:00:00\n",
      "Date on which highest value occured is : 2015-05-14 00:00:00\n",
      "Date on which highest value occured is : 2015-09-08 00:00:00\n",
      "Date on which highest value occured is : 2015-12-09 00:00:00\n"
     ]
    }
   ],
   "source": [
    "# resample to group the values\n",
    "series_resample = final_dateTime.resample('4M',closed='right').max()\n",
    "\n",
    "df = pd.DataFrame(final_dateTime)\n",
    "\n",
    "# print the result\n",
    "for i in series_resample.values:\n",
    "    print(\"Date on which highest value occured is : {}\".format(df[df['VALUE'] == i].index.tolist()[0]))"
   ]
  }
 ],
 "metadata": {
  "kernelspec": {
   "display_name": "Python 3",
   "language": "python",
   "name": "python3"
  },
  "language_info": {
   "codemirror_mode": {
    "name": "ipython",
    "version": 3
   },
   "file_extension": ".py",
   "mimetype": "text/x-python",
   "name": "python",
   "nbconvert_exporter": "python",
   "pygments_lexer": "ipython3",
   "version": "3.6.5"
  }
 },
 "nbformat": 4,
 "nbformat_minor": 2
}
